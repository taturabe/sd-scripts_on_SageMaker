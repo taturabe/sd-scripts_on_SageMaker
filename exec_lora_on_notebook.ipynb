{
 "cells": [
  {
   "cell_type": "markdown",
   "id": "5676dc4a-25a3-485e-98b4-94358c01b603",
   "metadata": {},
   "source": [
    "## 環境設定"
   ]
  },
  {
   "cell_type": "code",
   "execution_count": null,
   "id": "7b4b4dd4-4491-48e5-8a9c-2e9d1e65dc68",
   "metadata": {},
   "outputs": [],
   "source": [
    "!pip install --upgrade pip"
   ]
  },
  {
   "cell_type": "code",
   "execution_count": null,
   "id": "660f588a-19ae-4d15-ae38-b5364b011ce5",
   "metadata": {
    "scrolled": true,
    "tags": []
   },
   "outputs": [],
   "source": [
    "!pip install -r requirements.txt"
   ]
  },
  {
   "cell_type": "code",
   "execution_count": null,
   "id": "d8b574a2-0a00-46bd-888e-9978f0f5311b",
   "metadata": {
    "scrolled": true,
    "tags": []
   },
   "outputs": [],
   "source": [
    "!pip install tensorflow==2.11.0"
   ]
  },
  {
   "cell_type": "markdown",
   "id": "ef362310-46d8-4f49-bbf8-d518a0448224",
   "metadata": {
    "tags": []
   },
   "source": [
    "## 写真へのタグ付け\n",
    "\n",
    "参考\n",
    "[WD14Taggerによるタグ付け](https://github.com/kohya-ss/sd-scripts/blob/main/docs/train_README-ja.md#wd14tagger%E3%81%AB%E3%82%88%E3%82%8B%E3%82%BF%E3%82%B0%E4%BB%98%E3%81%91)\n",
    "\n",
    "画像の入っているフォルダを指定すると同じフォルダ内にタグ付けされたテキストファイルが作成される"
   ]
  },
  {
   "cell_type": "code",
   "execution_count": 2,
   "id": "bf083a5e-ba2f-40fb-aec7-ec125c5169f0",
   "metadata": {
    "tags": []
   },
   "outputs": [
    {
     "name": "stdout",
     "output_type": "stream",
     "text": [
      "2023-11-13 14:10:40.738168: I tensorflow/core/util/port.cc:110] oneDNN custom operations are on. You may see slightly different numerical results due to floating-point round-off errors from different computation orders. To turn them off, set the environment variable `TF_ENABLE_ONEDNN_OPTS=0`.\n",
      "2023-11-13 14:10:40.794586: I tensorflow/core/platform/cpu_feature_guard.cc:182] This TensorFlow binary is optimized to use available CPU instructions in performance-critical operations.\n",
      "To enable the following instructions: AVX2 AVX512F AVX512_VNNI FMA, in other operations, rebuild TensorFlow with the appropriate compiler flags.\n",
      "2023-11-13 14:10:41.496931: W tensorflow/compiler/tf2tensorrt/utils/py_utils.cc:38] TF-TRT Warning: Could not find TensorRT\n",
      "using existing wd14 tagger model\n",
      "2023-11-13 14:10:44.847370: I tensorflow/compiler/xla/stream_executor/cuda/cuda_gpu_executor.cc:995] successful NUMA node read from SysFS had negative value (-1), but there must be at least one NUMA node, so returning NUMA node zero. See more at https://github.com/torvalds/linux/blob/v6.0/Documentation/ABI/testing/sysfs-bus-pci#L344-L355\n",
      "2023-11-13 14:10:44.860229: I tensorflow/compiler/xla/stream_executor/cuda/cuda_gpu_executor.cc:995] successful NUMA node read from SysFS had negative value (-1), but there must be at least one NUMA node, so returning NUMA node zero. See more at https://github.com/torvalds/linux/blob/v6.0/Documentation/ABI/testing/sysfs-bus-pci#L344-L355\n",
      "2023-11-13 14:10:44.860419: I tensorflow/compiler/xla/stream_executor/cuda/cuda_gpu_executor.cc:995] successful NUMA node read from SysFS had negative value (-1), but there must be at least one NUMA node, so returning NUMA node zero. See more at https://github.com/torvalds/linux/blob/v6.0/Documentation/ABI/testing/sysfs-bus-pci#L344-L355\n",
      "2023-11-13 14:10:44.862946: I tensorflow/compiler/xla/stream_executor/cuda/cuda_gpu_executor.cc:995] successful NUMA node read from SysFS had negative value (-1), but there must be at least one NUMA node, so returning NUMA node zero. See more at https://github.com/torvalds/linux/blob/v6.0/Documentation/ABI/testing/sysfs-bus-pci#L344-L355\n",
      "2023-11-13 14:10:44.863129: I tensorflow/compiler/xla/stream_executor/cuda/cuda_gpu_executor.cc:995] successful NUMA node read from SysFS had negative value (-1), but there must be at least one NUMA node, so returning NUMA node zero. See more at https://github.com/torvalds/linux/blob/v6.0/Documentation/ABI/testing/sysfs-bus-pci#L344-L355\n",
      "2023-11-13 14:10:44.863274: I tensorflow/compiler/xla/stream_executor/cuda/cuda_gpu_executor.cc:995] successful NUMA node read from SysFS had negative value (-1), but there must be at least one NUMA node, so returning NUMA node zero. See more at https://github.com/torvalds/linux/blob/v6.0/Documentation/ABI/testing/sysfs-bus-pci#L344-L355\n",
      "2023-11-13 14:10:46.892578: I tensorflow/compiler/xla/stream_executor/cuda/cuda_gpu_executor.cc:995] successful NUMA node read from SysFS had negative value (-1), but there must be at least one NUMA node, so returning NUMA node zero. See more at https://github.com/torvalds/linux/blob/v6.0/Documentation/ABI/testing/sysfs-bus-pci#L344-L355\n",
      "2023-11-13 14:10:46.892805: I tensorflow/compiler/xla/stream_executor/cuda/cuda_gpu_executor.cc:995] successful NUMA node read from SysFS had negative value (-1), but there must be at least one NUMA node, so returning NUMA node zero. See more at https://github.com/torvalds/linux/blob/v6.0/Documentation/ABI/testing/sysfs-bus-pci#L344-L355\n",
      "2023-11-13 14:10:46.892958: I tensorflow/compiler/xla/stream_executor/cuda/cuda_gpu_executor.cc:995] successful NUMA node read from SysFS had negative value (-1), but there must be at least one NUMA node, so returning NUMA node zero. See more at https://github.com/torvalds/linux/blob/v6.0/Documentation/ABI/testing/sysfs-bus-pci#L344-L355\n",
      "2023-11-13 14:10:46.893121: I tensorflow/core/common_runtime/gpu/gpu_device.cc:1639] Created device /job:localhost/replica:0/task:0/device:GPU:0 with 13326 MB memory:  -> device: 0, name: Tesla T4, pci bus id: 0000:00:1e.0, compute capability: 7.5\n",
      "WARNING:tensorflow:No training configuration found in save file, so the model was *not* compiled. Compile it manually.\n",
      "WARNING:tensorflow:No training configuration found in save file, so the model was *not* compiled. Compile it manually.\n",
      "found 15 images.\n",
      "  0%|                                                    | 0/15 [00:00<?, ?it/s]2023-11-13 14:10:59.808499: I tensorflow/compiler/xla/stream_executor/cuda/cuda_dnn.cc:432] Loaded cuDNN version 8700\n",
      "100%|███████████████████████████████████████████| 15/15 [00:03<00:00,  4.35it/s]\n",
      "done!\n"
     ]
    }
   ],
   "source": [
    "!python finetune/tag_images_by_wd14_tagger.py \\\n",
    "    \"./train/20_usu frog\" \\\n",
    "    --batch_size=4"
   ]
  },
  {
   "cell_type": "markdown",
   "id": "5192a503-d2be-4ac6-a8a7-863c2b20f354",
   "metadata": {
    "tags": []
   },
   "source": [
    "### タグ付けされたデータのフォルダ名の変更\n",
    "\n",
    "このスクリプトでは下記の`2.DreamBooth、キャプション方式（正則化画像使用可）`形式を使用します。\n",
    "\n",
    "[学習データの準備について\n",
    "](https://github.com/kohya-ss/sd-scripts/blob/main/docs/train_README-ja.md#%E5%AD%A6%E7%BF%92%E3%83%87%E3%83%BC%E3%82%BF%E3%81%AE%E6%BA%96%E5%82%99%E3%81%AB%E3%81%A4%E3%81%84%E3%81%A6)\n",
    "\n",
    "上記からの引用↓\n",
    "\n",
    "*`画像ごとにキャプションが記録されたテキストファイルを用意して学習します。たとえば特定のキャラを学ばせると、画像の詳細をキャプションに記述することで（白い服を着たキャラA、赤い服を着たキャラA、など）キャラとそれ以外の要素が分離され、より厳密にモデルがキャラだけを学ぶことが期待できます。`*\n",
    "\n",
    "学習画像を使用する際.tomlファイルを指定せずコマンドラインオプションで指定する方法を採用しています。運用状況に応じて適宜適切な方を選択してください。\n",
    "\n",
    "[以前の指定形式（設定ファイルを用いずコマンドラインから指定）\n",
    "](https://github.com/kohya-ss/sd-scripts/blob/main/docs/train_README-ja.md#%E4%BB%A5%E5%89%8D%E3%81%AE%E6%8C%87%E5%AE%9A%E5%BD%A2%E5%BC%8F%E8%A8%AD%E5%AE%9A%E3%83%95%E3%82%A1%E3%82%A4%E3%83%AB%E3%82%92%E7%94%A8%E3%81%84%E3%81%9A%E3%82%B3%E3%83%9E%E3%83%B3%E3%83%89%E3%83%A9%E3%82%A4%E3%83%B3%E3%81%8B%E3%82%89%E6%8C%87%E5%AE%9A)\n",
    "\n",
    "\n",
    "#### コマンドラインから指定する際のフォルダ名の設定\n",
    "\n",
    "[step 1. 学習用画像の準備](https://github.com/kohya-ss/sd-scripts/blob/main/docs/train_README-ja.md#step-1-%E5%AD%A6%E7%BF%92%E7%94%A8%E7%94%BB%E5%83%8F%E3%81%AE%E6%BA%96%E5%82%99)\n",
    "\n",
    "画像とキャプションが入っているフォルダ名を以下のように設定します。\n",
    "\n",
    "`<繰り返し回数>_<identifier> <class>`\n",
    "\n",
    "`<identifier>`はLoRAで学習させたい特定のインスタンスを表す記述子です。今回のケースでは一般的なカエルではなく、鳥獣戯画スタイルのカエルを学習します。\n",
    "\n",
    "その場合identifierに\"tyoju_zaga\"のように入れても良いのですが、その言葉事態がすでに一般的に使われている名称であるとバッティングしてしまい不都合なため、世の中に使われていない適当な文字列を使います。3文字程度のsls,とかcpcというような文字列を使います。\n",
    "\n",
    "今回のケースでは\n",
    "`20_sls frog`\n",
    "のように設定し。一般のfrogクラスに属する特殊なsls(鳥獣戯画)を学習することとします。\n",
    "\n",
    "繰り返し回数については以下を参照してください。今回は正則化画像を使わないため重要ではありません\n",
    "\n",
    "[繰り返し回数について](https://github.com/kohya-ss/sd-scripts/blob/main/docs/train_README-ja.md#%E7%B9%B0%E3%82%8A%E8%BF%94%E3%81%97%E5%9B%9E%E6%95%B0%E3%81%AB%E3%81%A4%E3%81%84%E3%81%A6)\n",
    "\n"
   ]
  },
  {
   "cell_type": "markdown",
   "id": "6dae331d-4dc9-4eee-a89f-d94d762800e2",
   "metadata": {
    "tags": []
   },
   "source": [
    "## LoRAの学習\n",
    "\n",
    "下記のセルのコマンドでLoRAを実行する。`sdxl_train_network.py`を実行する際に `--network_module=networks.lora`と指定することでLoRAファインチューニングが実行される\n",
    "\n",
    "オプションの詳細は[学習の実行](https://github.com/kohya-ss/sd-scripts/blob/main/docs/train_network_README-ja.md#%E5%AD%A6%E7%BF%92%E3%81%AE%E5%AE%9F%E8%A1%8C)を参考"
   ]
  },
  {
   "cell_type": "code",
   "execution_count": null,
   "id": "a3088eac-8d17-471a-a48b-6137a4c9f087",
   "metadata": {
    "scrolled": true,
    "tags": []
   },
   "outputs": [],
   "source": [
    "!accelerate launch --num_cpu_threads_per_process 4 sdxl_train_network.py \\\n",
    "    --pretrained_model_name_or_path=\"stabilityai/stable-diffusion-xl-base-1.0\"\\\n",
    "    --train_data_dir=\"train\" \\\n",
    "    --resolution 512 --output_dir=output --output_name=frog \\\n",
    "    --train_batch_size=1 --learning_rate=1e-4 --max_train_epochs 20 \\\n",
    "    --mixed_precision=fp16 --save_precision=fp16 \\\n",
    "    --seed 42 --save_model_as=safetensors --save_every_n_epochs=1 \\\n",
    "    --optimizer_type=\"adafactor\" \\\n",
    "    --max_data_loader_n_workers=4 \\\n",
    "    --network_module=networks.lora --network_dim=4 \\\n",
    "    --training_comment=\"add any comment\" \\\n",
    "    --caption_extension=\".txt\" \\\n",
    "    --cache_latents \\\n",
    "    --no_half_vae"
   ]
  },
  {
   "cell_type": "markdown",
   "id": "29d6090f-1d41-4161-a8ff-b5c60c4a481e",
   "metadata": {},
   "source": [
    "学習が始まると`save_every_n_epochs`で指定した頻度で`output_dir`で指定したディレクトリにLoRAファイル(.safetensors)が出力されます。ファイル名のプレフィックスは`output_name`で指定できます。"
   ]
  },
  {
   "cell_type": "markdown",
   "id": "e1ccd4a6-c5cc-4a04-96e5-3a07dfa7ee3b",
   "metadata": {
    "tags": []
   },
   "source": [
    "### 推論　"
   ]
  },
  {
   "cell_type": "code",
   "execution_count": null,
   "id": "8ddac9bb-e17b-4f76-9b3f-95004e61efcc",
   "metadata": {},
   "outputs": [],
   "source": []
  }
 ],
 "metadata": {
  "kernelspec": {
   "display_name": "conda_pytorch_p310",
   "language": "python",
   "name": "conda_pytorch_p310"
  },
  "language_info": {
   "codemirror_mode": {
    "name": "ipython",
    "version": 3
   },
   "file_extension": ".py",
   "mimetype": "text/x-python",
   "name": "python",
   "nbconvert_exporter": "python",
   "pygments_lexer": "ipython3",
   "version": "3.10.12"
  }
 },
 "nbformat": 4,
 "nbformat_minor": 5
}
